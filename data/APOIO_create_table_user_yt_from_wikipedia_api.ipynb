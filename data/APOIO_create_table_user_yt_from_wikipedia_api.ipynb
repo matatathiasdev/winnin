{
 "cells": [
  {
   "cell_type": "code",
   "execution_count": 18,
   "id": "743c3332",
   "metadata": {},
   "outputs": [],
   "source": [
    "from  bs4 import BeautifulSoup \n",
    "\n",
    "import requests\n",
    "import pandas as pd"
   ]
  },
  {
   "cell_type": "code",
   "execution_count": 19,
   "id": "aa8b0a0f",
   "metadata": {},
   "outputs": [],
   "source": [
    "df_creators = pd.read_csv(r'C:\\Users\\mathe\\OneDrive\\Área de Trabalho\\winnin\\desafio_dataeng\\creators_scrape_wiki.csv')"
   ]
  },
  {
   "cell_type": "code",
   "execution_count": 20,
   "id": "e64f05c8",
   "metadata": {},
   "outputs": [],
   "source": [
    "# wiki_pages = [row.wiki_page for row in df_creators.collect()]\n",
    "wiki_pages = [row.wiki_page for row in df_creators.itertuples()]"
   ]
  },
  {
   "cell_type": "code",
   "execution_count": 21,
   "id": "2677f877",
   "metadata": {},
   "outputs": [],
   "source": [
    "def get_id_user_youtube(page_name):\n",
    "\n",
    "    url = \"https://en.wikipedia.org/w/api.php\"\n",
    "    params = {\n",
    "        \"action\": \"parse\",\n",
    "        \"page\": page_name,\n",
    "        \"format\": \"json\"\n",
    "    }\n",
    "    try:\n",
    "        r = requests.get(url, params=params, timeout=10)\n",
    "        r.raise_for_status()\n",
    "        data = r.json()\n",
    "\n",
    "        html = data.get(\"parse\", {}).get(\"text\", {}).get(\"*\", \"\")\n",
    "        soup = BeautifulSoup(html, \"html.parser\")\n",
    "\n",
    "        for a in soup.find_all(\"a\", href=True):\n",
    "            href = a[\"href\"]\n",
    "            if \"youtube.com\" in href:\n",
    "                if \"/user/\" in href:\n",
    "                    return href.split(\"/user/\")[-1].split(\"/\")[0]\n",
    "                elif \"/channel/\" in href:\n",
    "                    return href.split(\"/channel/\")[-1].split(\"/\")[0]\n",
    "        return None\n",
    "    except Exception as e:\n",
    "        print(f\"ERRO - {page_name}: {e}\")\n",
    "        return None"
   ]
  },
  {
   "cell_type": "code",
   "execution_count": 25,
   "id": "1327f47e",
   "metadata": {},
   "outputs": [],
   "source": [
    "results = []\n",
    "for page in wiki_pages:\n",
    "    user_id = get_id_user_youtube(page)\n",
    "    if user_id:\n",
    "        results.append((user_id, page))\n",
    "\n",
    "# Criar DataFrame com resultados\n",
    "df_users_yt = pd.DataFrame(data=results, columns=[\"user_id\", \"wiki_page\"])"
   ]
  },
  {
   "cell_type": "code",
   "execution_count": 27,
   "id": "89d42723",
   "metadata": {},
   "outputs": [],
   "source": [
    "df_users_yt.to_csv(r'C:\\Users\\mathe\\OneDrive\\Área de Trabalho\\winnin\\desafio_dataeng\\users_yt_from_wiki.csv', sep=';', index=False)"
   ]
  },
  {
   "cell_type": "code",
   "execution_count": null,
   "id": "e36265c0",
   "metadata": {},
   "outputs": [],
   "source": []
  }
 ],
 "metadata": {
  "kernelspec": {
   "display_name": "Python 3",
   "language": "python",
   "name": "python3"
  },
  "language_info": {
   "codemirror_mode": {
    "name": "ipython",
    "version": 3
   },
   "file_extension": ".py",
   "mimetype": "text/x-python",
   "name": "python",
   "nbconvert_exporter": "python",
   "pygments_lexer": "ipython3",
   "version": "3.13.1"
  }
 },
 "nbformat": 4,
 "nbformat_minor": 5
}
