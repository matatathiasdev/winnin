{
 "cells": [
  {
   "cell_type": "markdown",
   "metadata": {
    "application/vnd.databricks.v1+cell": {
     "cellMetadata": {},
     "inputWidgets": {},
     "nuid": "7a362fb4-01b4-455b-bf76-00ff13f113b8",
     "showTitle": false,
     "tableResultSettingsMap": {},
     "title": ""
    }
   },
   "source": [
    "# NOTAS\n",
    "###### O ENUNCIADO DIZIA PARA CONSIDERAR OS ULTIMOS 6 MESES DE CADA USUARIO ENTAO ME BASEEI NOS ULTIMOS 6 MESES DE CADA USUARIO COM BASE NAS DATAS DA BASE"
   ]
  },
  {
   "cell_type": "markdown",
   "metadata": {
    "application/vnd.databricks.v1+cell": {
     "cellMetadata": {
      "byteLimit": 2048000,
      "rowLimit": 10000
     },
     "inputWidgets": {},
     "nuid": "01047a5e-f3c1-4be5-a8cd-41f0da42b62f",
     "showTitle": false,
     "tableResultSettingsMap": {},
     "title": ""
    }
   },
   "source": [
    "## BIBLIOTECAS"
   ]
  },
  {
   "cell_type": "code",
   "execution_count": 0,
   "metadata": {
    "application/vnd.databricks.v1+cell": {
     "cellMetadata": {
      "byteLimit": 2048000,
      "rowLimit": 10000
     },
     "inputWidgets": {},
     "nuid": "544610c0-33df-4cac-b2d9-187a91507cec",
     "showTitle": false,
     "tableResultSettingsMap": {},
     "title": ""
    }
   },
   "outputs": [],
   "source": [
    "from pyspark.sql import functions as F\n",
    "from pyspark.sql import Window\n",
    "\n",
    "import sys"
   ]
  },
  {
   "cell_type": "markdown",
   "metadata": {
    "application/vnd.databricks.v1+cell": {
     "cellMetadata": {
      "byteLimit": 2048000,
      "rowLimit": 10000
     },
     "inputWidgets": {},
     "nuid": "feedb0f3-24b3-4517-b965-d29868861abe",
     "showTitle": false,
     "tableResultSettingsMap": {},
     "title": ""
    }
   },
   "source": [
    "## LER TABELAS"
   ]
  },
  {
   "cell_type": "code",
   "execution_count": 0,
   "metadata": {
    "application/vnd.databricks.v1+cell": {
     "cellMetadata": {
      "byteLimit": 2048000,
      "rowLimit": 10000
     },
     "inputWidgets": {},
     "nuid": "173746d3-4ea9-4448-8563-a766ab8fedce",
     "showTitle": false,
     "tableResultSettingsMap": {},
     "title": ""
    }
   },
   "outputs": [],
   "source": [
    "df_users_yt = spark.table(\"workspace.default.users_yt\")\n",
    "\n",
    "df_posts_creator = spark.table(\"workspace.default.posts_creator\")"
   ]
  },
  {
   "cell_type": "markdown",
   "metadata": {
    "application/vnd.databricks.v1+cell": {
     "cellMetadata": {
      "byteLimit": 2048000,
      "rowLimit": 10000
     },
     "inputWidgets": {},
     "nuid": "ce998975-2862-4d9b-97cc-d1ce73ae482e",
     "showTitle": false,
     "tableResultSettingsMap": {},
     "title": ""
    }
   },
   "source": [
    "## TABELA DE APOIO PARA ANALISES"
   ]
  },
  {
   "cell_type": "code",
   "execution_count": 0,
   "metadata": {
    "application/vnd.databricks.v1+cell": {
     "cellMetadata": {
      "byteLimit": 2048000,
      "rowLimit": 10000
     },
     "inputWidgets": {},
     "nuid": "d24d9b27-35c5-4a55-929d-c51881e186d8",
     "showTitle": false,
     "tableResultSettingsMap": {},
     "title": ""
    }
   },
   "outputs": [],
   "source": [
    "df_analytics = df_users_yt.join(df_posts_creator, df_users_yt['user_id'] == df_posts_creator['yt_user'], 'left')"
   ]
  },
  {
   "cell_type": "markdown",
   "metadata": {
    "application/vnd.databricks.v1+cell": {
     "cellMetadata": {
      "byteLimit": 2048000,
      "rowLimit": 10000
     },
     "inputWidgets": {},
     "nuid": "9286723c-708a-4d81-b315-59b63cd24ef3",
     "showTitle": false,
     "tableResultSettingsMap": {},
     "title": ""
    }
   },
   "source": [
    "## ULTIMOS 6 MESES POR USER ID"
   ]
  },
  {
   "cell_type": "code",
   "execution_count": 0,
   "metadata": {
    "application/vnd.databricks.v1+cell": {
     "cellMetadata": {
      "byteLimit": 2048000,
      "rowLimit": 10000
     },
     "inputWidgets": {},
     "nuid": "9546d309-10e2-47a2-8817-e244a9111d60",
     "showTitle": false,
     "tableResultSettingsMap": {
      "0": {
       "dataGridStateBlob": "{\"version\":1,\"tableState\":{\"columnPinning\":{\"left\":[\"#row_number#\"],\"right\":[]},\"columnSizing\":{},\"columnVisibility\":{}},\"settings\":{\"columns\":{}},\"syncTimestamp\":1755471855084}",
       "filterBlob": null,
       "queryPlanFiltersBlob": null,
       "tableResultIndex": 0
      }
     },
     "title": ""
    }
   },
   "outputs": [],
   "source": [
    "w_max = Window.partitionBy(\"user_id\")\n",
    "\n",
    "df_with_max = df_analytics.withColumn(\"max_date\", F.max(\"published_date\").over(w_max))\n",
    "\n",
    "df_with_limit = df_with_max.withColumn(\"limit_date\", F.add_months(\"max_date\", -5))\n",
    "\n",
    "df_last_six_months = df_with_limit.filter(F.col(\"published_date\") >= F.col(\"limit_date\"))\n",
    "\n",
    "df_last_six_months = df_last_six_months.withColumn('published_year', F.date_format(F.col('published_date'), 'yyyy'))\\\n",
    "                                       .withColumn('published_month', F.date_format(F.col('published_date'), 'MM'))\\\n",
    "                                       .withColumn(\"published_year_month\", F.date_format(F.col(\"published_date\"), \"yyyy-MM\"))\n",
    "\n",
    "df_last_six_months.display()"
   ]
  },
  {
   "cell_type": "markdown",
   "metadata": {
    "application/vnd.databricks.v1+cell": {
     "cellMetadata": {
      "byteLimit": 2048000,
      "rowLimit": 10000
     },
     "inputWidgets": {},
     "nuid": "040cae8f-f39e-4a39-9efe-cdb1aec0da2c",
     "showTitle": false,
     "tableResultSettingsMap": {},
     "title": ""
    }
   },
   "source": [
    "## RANK LIKES"
   ]
  },
  {
   "cell_type": "code",
   "execution_count": 0,
   "metadata": {
    "application/vnd.databricks.v1+cell": {
     "cellMetadata": {
      "byteLimit": 2048000,
      "rowLimit": 10000
     },
     "inputWidgets": {},
     "nuid": "18101093-f1e5-41d8-86db-d7dad7c1dfc3",
     "showTitle": false,
     "tableResultSettingsMap": {},
     "title": ""
    }
   },
   "outputs": [],
   "source": [
    "cols = [\n",
    "    'user_id', 'title', 'likes', 'rank'\n",
    "]\n",
    "\n",
    "window1 = Window.partitionBy('user_id').orderBy(F.desc_nulls_last(\"likes\"))\n",
    "\n",
    "df_analytics01 = df_last_six_months.withColumn('rank', F.row_number().over(window1))\\\n",
    "                                   .filter(F.col('rank') <= 3)\\\n",
    "                                   .select(cols)\n",
    "\n",
    "df_analytics01.display()"
   ]
  },
  {
   "cell_type": "markdown",
   "metadata": {
    "application/vnd.databricks.v1+cell": {
     "cellMetadata": {
      "byteLimit": 2048000,
      "rowLimit": 10000
     },
     "inputWidgets": {},
     "nuid": "3f947845-7563-4a10-bd9d-65b29ee54dd5",
     "showTitle": false,
     "tableResultSettingsMap": {},
     "title": ""
    }
   },
   "source": [
    "## RANK VIEWS"
   ]
  },
  {
   "cell_type": "code",
   "execution_count": 0,
   "metadata": {
    "application/vnd.databricks.v1+cell": {
     "cellMetadata": {
      "byteLimit": 2048000,
      "rowLimit": 10000
     },
     "inputWidgets": {},
     "nuid": "5475cf56-a872-47d4-a6c6-224f0571f2db",
     "showTitle": false,
     "tableResultSettingsMap": {},
     "title": ""
    }
   },
   "outputs": [],
   "source": [
    "cols = ['user_id', 'title', 'views', 'rank']\n",
    "\n",
    "w_rank = Window.partitionBy(\"user_id\").orderBy(F.desc_nulls_last(\"views\"))\n",
    "\n",
    "df_analytics02 = df_last_six_months.withColumn(\"rank\", F.row_number().over(w_rank))\\\n",
    "                                   .filter(F.col(\"rank\") <= 3)\\\n",
    "                                   .select(cols)\\\n",
    "                                       \n",
    "df_analytics02.display()"
   ]
  },
  {
   "cell_type": "markdown",
   "metadata": {
    "application/vnd.databricks.v1+cell": {
     "cellMetadata": {
      "byteLimit": 2048000,
      "rowLimit": 10000
     },
     "inputWidgets": {},
     "nuid": "af19a3f9-3a32-439d-81cc-5d22914e38b9",
     "showTitle": false,
     "tableResultSettingsMap": {},
     "title": ""
    }
   },
   "source": [
    "## LEFT ANTI YT USERS"
   ]
  },
  {
   "cell_type": "code",
   "execution_count": 0,
   "metadata": {
    "application/vnd.databricks.v1+cell": {
     "cellMetadata": {
      "byteLimit": 2048000,
      "rowLimit": 10000
     },
     "inputWidgets": {},
     "nuid": "5f610baf-d7a4-41a1-84c2-9275eb781338",
     "showTitle": false,
     "tableResultSettingsMap": {},
     "title": ""
    }
   },
   "outputs": [],
   "source": [
    "df_leftant = df_posts_creator.join(df_users_yt, df_posts_creator['yt_user'] == df_users_yt['user_id'], 'leftanti').select('yt_user').distinct()\n",
    "df_leftant.display()"
   ]
  },
  {
   "cell_type": "markdown",
   "metadata": {
    "application/vnd.databricks.v1+cell": {
     "cellMetadata": {
      "byteLimit": 2048000,
      "rowLimit": 10000
     },
     "inputWidgets": {},
     "nuid": "e684979c-407f-4a8a-a8ad-3866e3c1b012",
     "showTitle": false,
     "tableResultSettingsMap": {},
     "title": ""
    }
   },
   "source": [
    "## CONTAR POTS POR YT_USER"
   ]
  },
  {
   "cell_type": "code",
   "execution_count": 0,
   "metadata": {
    "application/vnd.databricks.v1+cell": {
     "cellMetadata": {
      "byteLimit": 2048000,
      "rowLimit": 10000
     },
     "inputWidgets": {},
     "nuid": "1ad5c477-b19e-4272-9a9e-88e12fe8155a",
     "showTitle": false,
     "tableResultSettingsMap": {
      "0": {
       "dataGridStateBlob": "{\"version\":1,\"tableState\":{\"columnPinning\":{\"left\":[\"#row_number#\"],\"right\":[]},\"columnSizing\":{},\"columnVisibility\":{}},\"settings\":{\"columns\":{}},\"syncTimestamp\":1755470079029}",
       "filterBlob": null,
       "queryPlanFiltersBlob": null,
       "tableResultIndex": 0
      }
     },
     "title": ""
    }
   },
   "outputs": [],
   "source": [
    "df_count_pots = df_last_six_months.groupBy('yt_user', 'published_year_month').count().orderBy('yt_user', 'published_year_month')\n",
    "df_count_pots.display()"
   ]
  },
  {
   "cell_type": "markdown",
   "metadata": {
    "application/vnd.databricks.v1+cell": {
     "cellMetadata": {
      "byteLimit": 2048000,
      "rowLimit": 10000
     },
     "inputWidgets": {},
     "nuid": "9b5c1538-b331-49f6-aca6-52efb5a92d4b",
     "showTitle": false,
     "tableResultSettingsMap": {},
     "title": ""
    }
   },
   "source": [
    "## GERACAO DE SERIE MENSAL POR USUARIO"
   ]
  },
  {
   "cell_type": "code",
   "execution_count": 0,
   "metadata": {
    "application/vnd.databricks.v1+cell": {
     "cellMetadata": {
      "byteLimit": 2048000,
      "rowLimit": 10000
     },
     "inputWidgets": {},
     "nuid": "50212c50-1f46-4251-a655-9e0acf3cc627",
     "showTitle": false,
     "tableResultSettingsMap": {
      "0": {
       "dataGridStateBlob": "{\"version\":1,\"tableState\":{\"columnPinning\":{\"left\":[\"#row_number#\"],\"right\":[]},\"columnSizing\":{},\"columnVisibility\":{}},\"settings\":{\"columns\":{}},\"syncTimestamp\":1755473054889}",
       "filterBlob": null,
       "queryPlanFiltersBlob": null,
       "tableResultIndex": 0
      }
     },
     "title": ""
    }
   },
   "outputs": [],
   "source": [
    "# A FUNCAO TEM COMO OBJETIVO A PARTIR DOS VALORES MINIMOS E MAXIMOS DE PERIODO ANO E MES \n",
    "# GERAR TODOS OS MESES DENTRO DESSE INTERVALO PARA CADA YT_USER PREENCHENDO OS VALORES AUSENTES\n",
    "def mul_valor_data(df):\n",
    "    dfs = []\n",
    "    for i in df.select('yt_user').distinct().collect():\n",
    "        df_support = df.filter(F.col('yt_user')==i.yt_user)\n",
    "        \n",
    "        min_year = int(df_support.agg({\"published_year_month\": \"min\"}).collect()[0][0][:4])\n",
    "        max_year =  int(df_support.agg({\"published_year_month\": \"max\"}).collect()[0][0][:4])\n",
    "\n",
    "        meses_anos = [f\"{ano}-{str(m).zfill(2)}\"\n",
    "                    for ano in range(min_year, max_year + 1)\n",
    "                    for m in range(1, 13)]\n",
    "\n",
    "        df_ano_mes = spark.createDataFrame(meses_anos, ['published_year_month'])\n",
    "\n",
    "        df_support = df_ano_mes.join(df_support, on='published_year_month', how='left')\n",
    "\n",
    "        # ERRO TRECHO E RESPONSAVEL POR PREENCHER OS VALORES NULOS COM VALOR DA LINHA ANTERIOR\n",
    "        w = Window.orderBy(F.desc('yt_user')).rowsBetween(-sys.maxsize, 0)\n",
    "\n",
    "        df_support = df_support.withColumn('yt_user_filled', F.last('yt_user', ignorenulls=True).over(w))\\\n",
    "                               .drop(\"yt_user\")\\\n",
    "                               .withColumnRenamed('yt_user_filled', 'yt_user')\\\n",
    "                               .fillna(0, subset=['count'])\n",
    "        \n",
    "        dfs.append(df_support)\n",
    "    \n",
    "    df_geral = dfs[0]\n",
    "    for df in dfs[1:]:\n",
    "        df_geral = df_geral.union(df)\n",
    "    \n",
    "    return df_geral\n",
    "\n",
    "df_full_months = mul_valor_data(df_count_pots).orderBy('yt_user', 'published_year_month')\n",
    "\n",
    "df_full_months.display()"
   ]
  },
  {
   "cell_type": "markdown",
   "metadata": {
    "application/vnd.databricks.v1+cell": {
     "cellMetadata": {
      "byteLimit": 2048000,
      "rowLimit": 10000
     },
     "inputWidgets": {},
     "nuid": "de6ca07c-ec4e-49d7-b929-6dbd9f5e58cd",
     "showTitle": false,
     "tableResultSettingsMap": {},
     "title": ""
    }
   },
   "source": [
    "## PIVOT POR ANO - MES"
   ]
  },
  {
   "cell_type": "code",
   "execution_count": 0,
   "metadata": {
    "application/vnd.databricks.v1+cell": {
     "cellMetadata": {
      "byteLimit": 2048000,
      "rowLimit": 10000
     },
     "inputWidgets": {},
     "nuid": "7931016e-5acf-4574-a755-ad6636bea3e6",
     "showTitle": false,
     "tableResultSettingsMap": {},
     "title": ""
    }
   },
   "outputs": [],
   "source": [
    "df_pivot_months = df_full_months.groupBy(\"yt_user\").pivot(\"published_year_month\").agg(F.first(\"count\"))\n",
    "\n",
    "df_pivot_months.display()"
   ]
  },
  {
   "cell_type": "markdown",
   "metadata": {
    "application/vnd.databricks.v1+cell": {
     "cellMetadata": {},
     "inputWidgets": {},
     "nuid": "e0326f96-9129-4ff0-9c8d-da9fc5e734a1",
     "showTitle": false,
     "tableResultSettingsMap": {},
     "title": ""
    }
   },
   "source": [
    "## TOP 3 TAGS"
   ]
  },
  {
   "cell_type": "code",
   "execution_count": 0,
   "metadata": {
    "application/vnd.databricks.v1+cell": {
     "cellMetadata": {
      "byteLimit": 2048000,
      "rowLimit": 10000
     },
     "inputWidgets": {},
     "nuid": "b8a03927-6052-4ab5-8947-12cfc9e638ff",
     "showTitle": false,
     "tableResultSettingsMap": {},
     "title": ""
    }
   },
   "outputs": [],
   "source": [
    "df_tags = df_last_six_months.withColumn(\"tag\", F.explode(\"tags\"))\n",
    "\n",
    "df_count_tags = df_tags.groupBy(\"yt_user\", \"tag\")\\\n",
    "                       .count()\n",
    "\n",
    "w = Window.partitionBy(\"yt_user\").orderBy(F.desc(\"count\"))\n",
    "df_ranked = df_count_tags.withColumn(\"rank\", F.row_number().over(w))\n",
    "\n",
    "df_top3_tags = df_ranked.filter(F.col(\"rank\") <= 3)\n",
    "\n",
    "df_top3_tags.display()"
   ]
  },
  {
   "cell_type": "code",
   "execution_count": 0,
   "metadata": {
    "application/vnd.databricks.v1+cell": {
     "cellMetadata": {
      "byteLimit": 2048000,
      "rowLimit": 10000
     },
     "inputWidgets": {},
     "nuid": "cc2e2b22-70b0-499a-b389-ee3d201203b1",
     "showTitle": false,
     "tableResultSettingsMap": {},
     "title": ""
    }
   },
   "outputs": [],
   "source": []
  }
 ],
 "metadata": {
  "application/vnd.databricks.v1+notebook": {
   "computePreferences": null,
   "dashboards": [],
   "environmentMetadata": {
    "base_environment": "",
    "environment_version": "2"
   },
   "inputWidgetPreferences": null,
   "language": "python",
   "notebookMetadata": {
    "pythonIndentUnit": 4
   },
   "notebookName": "analyze_creators",
   "widgets": {}
  },
  "language_info": {
   "name": "python"
  }
 },
 "nbformat": 4,
 "nbformat_minor": 0
}
