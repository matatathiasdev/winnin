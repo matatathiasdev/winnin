{
 "cells": [
  {
   "cell_type": "markdown",
   "metadata": {
    "application/vnd.databricks.v1+cell": {
     "cellMetadata": {
      "byteLimit": 2048000,
      "rowLimit": 10000
     },
     "inputWidgets": {},
     "nuid": "35a00465-2e21-4308-b401-346fb2c65265",
     "showTitle": false,
     "tableResultSettingsMap": {},
     "title": ""
    }
   },
   "source": [
    "# NOTAS\n",
    "###### CRIEI UM VOLUME NA WORKSPACE DEFAULT PARA ARMAZENAR OS ARQUIVOS\n",
    "###### EFETUAI A LEITURA DO ARQUIVO ARMAZENADO NO VOL COM SPARK\n",
    "###### GRAVEI A TABELA NA WORKSPACE DEFAULT COMO TABELA GERENCIADA DO DATABRICKS\n",
    "###### DEIXEI DUAS LINHA COMENTADA PARA EXEMPLIFICAR UMA POSSIVEL CRIACAO DE UMA TABELA NAO GERENCIADA (SO UM EXEMPLO MESMO)"
   ]
  },
  {
   "cell_type": "markdown",
   "metadata": {
    "application/vnd.databricks.v1+cell": {
     "cellMetadata": {
      "byteLimit": 2048000,
      "rowLimit": 10000
     },
     "inputWidgets": {},
     "nuid": "d4176b3f-4f44-479f-a04d-d7041f3da06a",
     "showTitle": false,
     "tableResultSettingsMap": {},
     "title": ""
    }
   },
   "source": [
    "## BIBLIOTECAS"
   ]
  },
  {
   "cell_type": "code",
   "execution_count": 0,
   "metadata": {
    "application/vnd.databricks.v1+cell": {
     "cellMetadata": {
      "byteLimit": 2048000,
      "rowLimit": 10000
     },
     "inputWidgets": {},
     "nuid": "026e3bb0-5a4a-4af3-a894-2583c633dd57",
     "showTitle": false,
     "tableResultSettingsMap": {},
     "title": ""
    }
   },
   "outputs": [],
   "source": [
    "from pyspark.sql import functions as F"
   ]
  },
  {
   "cell_type": "markdown",
   "metadata": {
    "application/vnd.databricks.v1+cell": {
     "cellMetadata": {
      "byteLimit": 2048000,
      "rowLimit": 10000
     },
     "inputWidgets": {},
     "nuid": "b4d6eac1-b781-46e8-9d19-311cfb528c53",
     "showTitle": false,
     "tableResultSettingsMap": {},
     "title": ""
    }
   },
   "source": [
    "## LEITURA DO ARQUIVO"
   ]
  },
  {
   "cell_type": "code",
   "execution_count": 0,
   "metadata": {
    "application/vnd.databricks.v1+cell": {
     "cellMetadata": {
      "byteLimit": 2048000,
      "rowLimit": 10000
     },
     "inputWidgets": {},
     "nuid": "5debf356-4585-4a7f-b954-324af90163c9",
     "showTitle": false,
     "tableResultSettingsMap": {},
     "title": ""
    }
   },
   "outputs": [],
   "source": [
    "df_posts_creators = spark.read.json('/Volumes/workspace/default/vol/posts_creator.json.gz')\n",
    "\n",
    "# CRIAR CAMPO DE DATA NO FORMATO TIMESTAMP\n",
    "df_posts_creators = df_posts_creators.withColumn(\"published_date\", F.from_unixtime(\"published_at\").cast(\"timestamp\"))"
   ]
  },
  {
   "cell_type": "markdown",
   "metadata": {
    "application/vnd.databricks.v1+cell": {
     "cellMetadata": {
      "byteLimit": 2048000,
      "rowLimit": 10000
     },
     "inputWidgets": {},
     "nuid": "90f1f167-9f0b-498c-8b0c-b0397433b66c",
     "showTitle": false,
     "tableResultSettingsMap": {},
     "title": ""
    }
   },
   "source": [
    "## GRAVAR TABELA"
   ]
  },
  {
   "cell_type": "code",
   "execution_count": 0,
   "metadata": {
    "application/vnd.databricks.v1+cell": {
     "cellMetadata": {
      "byteLimit": 2048000,
      "rowLimit": 10000
     },
     "inputWidgets": {},
     "nuid": "7a78cb5c-29ab-4ea8-9878-defbad7a1a0a",
     "showTitle": false,
     "tableResultSettingsMap": {},
     "title": ""
    }
   },
   "outputs": [],
   "source": [
    "df_posts_creators.write\\\n",
    "                 .format('delta')\\\n",
    "                 .mode('overwrite')\\\n",
    "                 .option(\"overwriteSchema\", \"true\")\\\n",
    "                 .saveAsTable(\"default.posts_creator\")"
   ]
  },
  {
   "cell_type": "code",
   "execution_count": 0,
   "metadata": {
    "application/vnd.databricks.v1+cell": {
     "cellMetadata": {
      "byteLimit": 2048000,
      "rowLimit": 10000
     },
     "inputWidgets": {},
     "nuid": "3e5d722e-5414-424c-83cd-0820d511def1",
     "showTitle": false,
     "tableResultSettingsMap": {},
     "title": ""
    }
   },
   "outputs": [],
   "source": [
    "# df_posts_creators.write.format(\"delta\").mode(\"overwrite\").option(\"overwriteSchema\", \"true\").save(\"full_path\")"
   ]
  },
  {
   "cell_type": "code",
   "execution_count": 0,
   "metadata": {
    "application/vnd.databricks.v1+cell": {
     "cellMetadata": {
      "byteLimit": 2048000,
      "rowLimit": 10000
     },
     "inputWidgets": {},
     "nuid": "5eb336d2-ed77-4e5d-baca-aa51732d402c",
     "showTitle": false,
     "tableResultSettingsMap": {},
     "title": ""
    }
   },
   "outputs": [],
   "source": [
    "%sql\n",
    "-- create table if not exists default.posts_creator using delta location \"full_path\""
   ]
  }
 ],
 "metadata": {
  "application/vnd.databricks.v1+notebook": {
   "computePreferences": null,
   "dashboards": [],
   "environmentMetadata": {
    "base_environment": "",
    "environment_version": "2"
   },
   "inputWidgetPreferences": null,
   "language": "python",
   "notebookMetadata": {
    "pythonIndentUnit": 4
   },
   "notebookName": "create_table_posts_creator",
   "widgets": {}
  },
  "language_info": {
   "name": "python"
  }
 },
 "nbformat": 4,
 "nbformat_minor": 0
}
